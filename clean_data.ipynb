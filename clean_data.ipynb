{
 "cells": [
  {
   "cell_type": "code",
   "execution_count": 105,
   "metadata": {},
   "outputs": [],
   "source": [
    "import re\n",
    "import pandas as pd\n",
    "#https://stackoverflow.com/questions/60996241/transformers-and-bert-dealing-with-possessives-and-apostrophes-when-encode"
   ]
  },
  {
   "cell_type": "code",
   "execution_count": 106,
   "metadata": {},
   "outputs": [
    {
     "data": {
      "text/plain": [
       "<RegexFlag.IGNORECASE: 2>"
      ]
     },
     "execution_count": 106,
     "metadata": {},
     "output_type": "execute_result"
    }
   ],
   "source": [
    "re.IGNORECASE"
   ]
  },
  {
   "cell_type": "code",
   "execution_count": 107,
   "metadata": {},
   "outputs": [],
   "source": [
    "train_dataset = pd.read_csv(\"clean_train.csv\")\n",
    "val_dataset = pd.read_csv(\"clean_val.csv\")\n",
    "test_dataset = pd.read_csv(\"clean_test.csv\")\n",
    "train_dataset = train_dataset.iloc[:,:]"
   ]
  },
  {
   "cell_type": "code",
   "execution_count": 108,
   "metadata": {},
   "outputs": [],
   "source": [
    "# remove special characters\n",
    "# convert Fullwidth to normal character\n",
    "# \n",
    "# create a dictionary with all normal character\n",
    "cl_path = 'cleanwords.txt'\n",
    "clean_word_dict = {}\n",
    "with open(cl_path, 'r', encoding='utf-8') as cl:\n",
    "    for line in cl:\n",
    "        line = line.strip('\\n')\n",
    "        typo, correct = line.split(',')\n",
    "        \n",
    "        clean_word_dict[typo] = correct\n",
    "        \n",
    "# create a special character remover\n",
    "special_character_removal=re.compile(r'[^?!.,:a-z\\d ]',re.IGNORECASE)"
   ]
  },
  {
   "cell_type": "code",
   "execution_count": null,
   "metadata": {},
   "outputs": [],
   "source": []
  },
  {
   "cell_type": "code",
   "execution_count": 109,
   "metadata": {
    "scrolled": true
   },
   "outputs": [
    {
     "data": {
      "text/plain": [
       "65296"
      ]
     },
     "execution_count": 109,
     "metadata": {},
     "output_type": "execute_result"
    }
   ],
   "source": [
    "ord(typo)"
   ]
  },
  {
   "cell_type": "code",
   "execution_count": 110,
   "metadata": {},
   "outputs": [
    {
     "data": {
      "text/plain": [
       "48"
      ]
     },
     "execution_count": 110,
     "metadata": {},
     "output_type": "execute_result"
    }
   ],
   "source": [
    "ord(correct)"
   ]
  },
  {
   "cell_type": "code",
   "execution_count": 111,
   "metadata": {},
   "outputs": [
    {
     "data": {
      "text/plain": [
       "{'\\ufeffａ': 'a',\n",
       " 'ｂ': 'b',\n",
       " 'ｃ': 'c',\n",
       " 'ｄ': 'd',\n",
       " 'ｅ': 'e',\n",
       " 'ｆ': 'f',\n",
       " 'ｇ': 'g',\n",
       " 'ｈ': 'h',\n",
       " 'ｉ': 'i',\n",
       " 'ｊ': 'j',\n",
       " 'ｋ': 'k',\n",
       " 'ｌ': 'l',\n",
       " 'ｍ': 'm',\n",
       " 'ｎ': 'n',\n",
       " 'ｏ': 'o',\n",
       " 'ｐ': 'p',\n",
       " 'ｑ': 'q',\n",
       " 'ｒ': 'r',\n",
       " 'ｓ': 's',\n",
       " 'ｔ': 't',\n",
       " 'ｕ': 'u',\n",
       " 'ｖ': 'v',\n",
       " 'ｗ': 'w',\n",
       " 'ｘ': 'x',\n",
       " 'ｙ': 'y',\n",
       " 'ｚ': 'z',\n",
       " 'Ａ': 'a',\n",
       " 'Ｂ': 'b',\n",
       " 'Ｃ': 'c',\n",
       " 'Ｄ': 'd',\n",
       " 'Ｅ': 'e',\n",
       " 'Ｆ': 'f',\n",
       " 'Ｇ': 'g',\n",
       " 'Ｈ': 'h',\n",
       " 'Ｉ': 'i',\n",
       " 'Ｊ': 'j',\n",
       " 'Ｋ': 'k',\n",
       " 'Ｌ': 'l',\n",
       " 'Ｍ': 'm',\n",
       " 'Ｎ': 'n',\n",
       " 'Ｏ': 'o',\n",
       " 'Ｐ': 'p',\n",
       " 'Ｑ': 'q',\n",
       " 'Ｒ': 'r',\n",
       " 'Ｓ': 's',\n",
       " 'Ｔ': 't',\n",
       " 'Ｕ': 'u',\n",
       " 'Ｖ': 'v',\n",
       " 'Ｗ': 'w',\n",
       " 'Ｘ': 'x',\n",
       " 'Ｙ': 'y',\n",
       " 'Ｚ': 'z',\n",
       " '？': ' ?',\n",
       " '！': ' !',\n",
       " '．': ' .',\n",
       " '＝': ' =',\n",
       " '＋': ' +',\n",
       " '－': ' -',\n",
       " '１': '1',\n",
       " '２': '2',\n",
       " '３': '3',\n",
       " '４': '4',\n",
       " '５': '5',\n",
       " '６': '6',\n",
       " '７': '7',\n",
       " '８': '8',\n",
       " '９': '9',\n",
       " '０': '0'}"
      ]
     },
     "execution_count": 111,
     "metadata": {},
     "output_type": "execute_result"
    }
   ],
   "source": [
    "clean_word_dict"
   ]
  },
  {
   "cell_type": "code",
   "execution_count": 138,
   "metadata": {},
   "outputs": [],
   "source": [
    "def clean_text(text, count_null_words=True, clean_wiki_tokens=True):\n",
    "    # Clean the text, with the option to remove stopwords and to stem words.\n",
    "    # dirty words\n",
    "\n",
    "    text = re.sub(r\"https?:\\/\\/(www\\.)?[-a-zA-Z0-9@:%._\\+~#=]{2,256}\\.[a-z]{2,6}\\b([-a-zA-Z0-9@:%_\\+.~#?&//=]*)\", \"\", text)\n",
    "    text = re.sub(r\"(25[0-5]|2[0-4][0-9]|[01]?[0-9][0-9]?)(\\.(25[0-5]|2[0-4][0-9]|[01]?[0-9][0-9]?)){3}\", \"\", text)\n",
    "    \n",
    "    if clean_wiki_tokens:\n",
    "        # Drop the image\n",
    "        text = re.sub(r\"image:[a-zA-Z0-9]*\\.jpg\", \" \", text)\n",
    "        text = re.sub(r\"image:[a-zA-Z0-9]*\\.png\", \" \", text)\n",
    "        text = re.sub(r\"image:[a-zA-Z0-9]*\\.gif\", \" \", text)\n",
    "        text = re.sub(r\"image:[a-zA-Z0-9]*\\.bmp\", \" \", text)\n",
    "\n",
    "        # Drop css\n",
    "        text = re.sub(r\"#([A-Fa-f0-9]{6}|[A-Fa-f0-9]{3})\", \" \",text)\n",
    "        text = re.sub(r\"\\{\\|[^\\}]*\\|\\}\", \" \", text)\n",
    "        \n",
    "        # Clean templates\n",
    "        text = re.sub(r\"\\[?\\[user:.*\\]\", \" \", text)\n",
    "        text = re.sub(r\"\\[?\\[user:.*\\|\", \" \", text)        \n",
    "        text = re.sub(r\"\\[?\\[wikipedia:.*\\]\", \" \", text)\n",
    "        text = re.sub(r\"\\[?\\[wikipedia:.*\\|\", \" \", text)\n",
    "        text = re.sub(r\"\\[?\\[special:.*\\]\", \" \", text)\n",
    "        text = re.sub(r\"\\[?\\[special:.*\\|\", \" \", text)\n",
    "        text = re.sub(r\"\\[?\\[category:.*\\]\", \" \", text)\n",
    "        text = re.sub(r\"\\[?\\[category:.*\\|\", \" \", text)\n",
    "    \n",
    "    for typo, correct in clean_word_dict.items():\n",
    "        text = re.sub(typo, \" \" + correct + \" \", text)\n",
    "\n",
    "    text = re.sub(r\"what's\", \"what is \", text)\n",
    "    text = re.sub(r\": : : : \", \" \", text)\n",
    "    text = re.sub(r\": : \", \" \", text)\n",
    "    text = re.sub(r\": : : \", \" \", text)\n",
    "    text = re.sub(r\"\\n\", \" \", text)\n",
    "#     text = re.sub(r\"\\'s\", \" \", text)\n",
    "    text = re.sub(r\"\\s'\", \"'s'\", text)\n",
    "    text = re.sub(r\"\\'ve\", \" have \", text)\n",
    "    text = re.sub(r\"can't\", \"cannot \", text)\n",
    "    text = re.sub(r\"n't\", \" not \", text)\n",
    "    text = re.sub(r\"i'm\", \"i am \", text)\n",
    "    text = re.sub(r\"\\'re\", \" are \", text)\n",
    "    text = re.sub(r\"\\'d\", \" would \", text)\n",
    "    text = re.sub(r\"\\'ll\", \" will \", text)\n",
    "    text = re.sub(r\"\\.\", \" \", text)\n",
    "    text = re.sub(r\"\\n\", \" \", text)\n",
    "    text = re.sub(r\"==\", \" \", text)\n",
    "    text = re.sub(r\"!\", \" ! \", text)\n",
    "    text = re.sub(r\"\\/\", \" \", text)\n",
    "    text = re.sub(r\"\\?\", \" ? \", text)\n",
    "    text = re.sub(r\"\\!\", \" ! \", text)\n",
    "    text = re.sub(r\"\\\"\", \" \", text)\n",
    "    text = re.sub(r\"\\^\", \" ^ \", text)\n",
    "    text = re.sub(r\"\\+\", \" + \", text)\n",
    "    text = re.sub(r\"\\-\", \" - \", text)\n",
    "    text = re.sub(r\"\\=\", \" = \", text)\n",
    "    text = re.sub(r\"'\", \" \", text)\n",
    "    text = re.sub(r\"(\\d+)(k)\", r\"\\g<1>000\", text)\n",
    "    text = re.sub(r\":\", \" : \", text)\n",
    "    text = re.sub(r\" e g \", \" eg \", text)\n",
    "    text = re.sub(r\" b g \", \" bg \", text)\n",
    "    text = re.sub(r\" u s \", \" american \", text)\n",
    "    text = re.sub(r\"\\0s\", \"0\", text)\n",
    "    text = re.sub(r\" 9 11 \", \"911\", text)\n",
    "    text = re.sub(r\"e - mail\", \"email\", text)\n",
    "    text = re.sub(r\"j k\", \"jk\", text)\n",
    "    text = re.sub(r\"\\s{2,}\", \" \", text)\n",
    "    text = special_character_removal.sub('',text)\n",
    "\n",
    "\n",
    "    return (text)\n",
    "\n",
    "list_sentences_train = test_dataset[\"comment_text\"].values\n",
    "\n",
    "\n",
    "test_dataset[\"comment_text\"]= [clean_text(text) for text in list_sentences_train]    \n",
    "\n"
   ]
  },
  {
   "cell_type": "code",
   "execution_count": 134,
   "metadata": {},
   "outputs": [],
   "source": [
    "aa = \"dfjsdjfl}}}}}}:::\""
   ]
  },
  {
   "cell_type": "code",
   "execution_count": 135,
   "metadata": {},
   "outputs": [],
   "source": [
    "aa = special_character_removal.sub('',aa)"
   ]
  },
  {
   "cell_type": "code",
   "execution_count": 136,
   "metadata": {},
   "outputs": [
    {
     "data": {
      "text/plain": [
       "'dfjsdjfl:::'"
      ]
     },
     "execution_count": 136,
     "metadata": {},
     "output_type": "execute_result"
    }
   ],
   "source": [
    "aa"
   ]
  },
  {
   "cell_type": "code",
   "execution_count": null,
   "metadata": {},
   "outputs": [],
   "source": []
  },
  {
   "cell_type": "code",
   "execution_count": null,
   "metadata": {},
   "outputs": [],
   "source": []
  },
  {
   "cell_type": "code",
   "execution_count": 141,
   "metadata": {},
   "outputs": [
    {
     "data": {
      "text/html": [
       "<div>\n",
       "<style scoped>\n",
       "    .dataframe tbody tr th:only-of-type {\n",
       "        vertical-align: middle;\n",
       "    }\n",
       "\n",
       "    .dataframe tbody tr th {\n",
       "        vertical-align: top;\n",
       "    }\n",
       "\n",
       "    .dataframe thead th {\n",
       "        text-align: right;\n",
       "    }\n",
       "</style>\n",
       "<table border=\"1\" class=\"dataframe\">\n",
       "  <thead>\n",
       "    <tr style=\"text-align: right;\">\n",
       "      <th></th>\n",
       "      <th>id</th>\n",
       "      <th>comment_text</th>\n",
       "      <th>threat</th>\n",
       "      <th>insult</th>\n",
       "      <th>toxic</th>\n",
       "      <th>IsAbuse</th>\n",
       "    </tr>\n",
       "  </thead>\n",
       "  <tbody>\n",
       "    <tr>\n",
       "      <th>0</th>\n",
       "      <td>7fa82da2a247d215</td>\n",
       "      <td>March 2011 Please do not vandalize pages, as ...</td>\n",
       "      <td>0</td>\n",
       "      <td>0</td>\n",
       "      <td>0</td>\n",
       "      <td>0</td>\n",
       "    </tr>\n",
       "    <tr>\n",
       "      <th>1</th>\n",
       "      <td>7fa91df080ff10b8</td>\n",
       "      <td>How Alaska became US territory ? Actually Ala...</td>\n",
       "      <td>0</td>\n",
       "      <td>0</td>\n",
       "      <td>0</td>\n",
       "      <td>0</td>\n",
       "    </tr>\n",
       "    <tr>\n",
       "      <th>2</th>\n",
       "      <td>7fa9fc8ef40b67ba</td>\n",
       "      <td>Actually, , it s not The key description as s...</td>\n",
       "      <td>0</td>\n",
       "      <td>0</td>\n",
       "      <td>0</td>\n",
       "      <td>0</td>\n",
       "    </tr>\n",
       "    <tr>\n",
       "      <th>3</th>\n",
       "      <td>7fabc5f785a418a1</td>\n",
       "      <td>: It looks like it stalled I will look into i...</td>\n",
       "      <td>0</td>\n",
       "      <td>0</td>\n",
       "      <td>0</td>\n",
       "      <td>0</td>\n",
       "    </tr>\n",
       "    <tr>\n",
       "      <th>4</th>\n",
       "      <td>7fac4c8e614f1bfc</td>\n",
       "      <td>: That solution ignores all the references to...</td>\n",
       "      <td>0</td>\n",
       "      <td>0</td>\n",
       "      <td>0</td>\n",
       "      <td>0</td>\n",
       "    </tr>\n",
       "  </tbody>\n",
       "</table>\n",
       "</div>"
      ],
      "text/plain": [
       "                 id                                       comment_text  \\\n",
       "0  7fa82da2a247d215   March 2011 Please do not vandalize pages, as ...   \n",
       "1  7fa91df080ff10b8   How Alaska became US territory ? Actually Ala...   \n",
       "2  7fa9fc8ef40b67ba   Actually, , it s not The key description as s...   \n",
       "3  7fabc5f785a418a1   : It looks like it stalled I will look into i...   \n",
       "4  7fac4c8e614f1bfc   : That solution ignores all the references to...   \n",
       "\n",
       "   threat  insult  toxic  IsAbuse  \n",
       "0       0       0      0        0  \n",
       "1       0       0      0        0  \n",
       "2       0       0      0        0  \n",
       "3       0       0      0        0  \n",
       "4       0       0      0        0  "
      ]
     },
     "execution_count": 141,
     "metadata": {},
     "output_type": "execute_result"
    }
   ],
   "source": [
    "test_dataset.head()"
   ]
  },
  {
   "cell_type": "code",
   "execution_count": 142,
   "metadata": {},
   "outputs": [
    {
     "data": {
      "text/html": [
       "<div>\n",
       "<style scoped>\n",
       "    .dataframe tbody tr th:only-of-type {\n",
       "        vertical-align: middle;\n",
       "    }\n",
       "\n",
       "    .dataframe tbody tr th {\n",
       "        vertical-align: top;\n",
       "    }\n",
       "\n",
       "    .dataframe thead th {\n",
       "        text-align: right;\n",
       "    }\n",
       "</style>\n",
       "<table border=\"1\" class=\"dataframe\">\n",
       "  <thead>\n",
       "    <tr style=\"text-align: right;\">\n",
       "      <th></th>\n",
       "      <th>id</th>\n",
       "      <th>comment_text</th>\n",
       "      <th>threat</th>\n",
       "      <th>insult</th>\n",
       "      <th>toxic</th>\n",
       "      <th>IsAbuse</th>\n",
       "    </tr>\n",
       "  </thead>\n",
       "  <tbody>\n",
       "    <tr>\n",
       "      <th>0</th>\n",
       "      <td>0001ea8717f6de06</td>\n",
       "      <td>Thank you for understanding I think very highl...</td>\n",
       "      <td>0</td>\n",
       "      <td>0</td>\n",
       "      <td>0</td>\n",
       "      <td>0</td>\n",
       "    </tr>\n",
       "    <tr>\n",
       "      <th>1</th>\n",
       "      <td>000247e83dcc1211</td>\n",
       "      <td>: Dear god this site is horrible</td>\n",
       "      <td>0</td>\n",
       "      <td>0</td>\n",
       "      <td>0</td>\n",
       "      <td>0</td>\n",
       "    </tr>\n",
       "    <tr>\n",
       "      <th>2</th>\n",
       "      <td>0002f87b16116a7f</td>\n",
       "      <td>: Somebody will invariably try to add Religio...</td>\n",
       "      <td>0</td>\n",
       "      <td>0</td>\n",
       "      <td>0</td>\n",
       "      <td>0</td>\n",
       "    </tr>\n",
       "    <tr>\n",
       "      <th>3</th>\n",
       "      <td>0003e1cccfd5a40a</td>\n",
       "      <td>It says it right there that it IS a type The ...</td>\n",
       "      <td>0</td>\n",
       "      <td>0</td>\n",
       "      <td>0</td>\n",
       "      <td>0</td>\n",
       "    </tr>\n",
       "    <tr>\n",
       "      <th>4</th>\n",
       "      <td>00059ace3e3e9a53</td>\n",
       "      <td>Before adding a new product to the list, make...</td>\n",
       "      <td>0</td>\n",
       "      <td>0</td>\n",
       "      <td>0</td>\n",
       "      <td>0</td>\n",
       "    </tr>\n",
       "  </tbody>\n",
       "</table>\n",
       "</div>"
      ],
      "text/plain": [
       "                 id                                       comment_text  \\\n",
       "0  0001ea8717f6de06  Thank you for understanding I think very highl...   \n",
       "1  000247e83dcc1211                  : Dear god this site is horrible    \n",
       "2  0002f87b16116a7f   : Somebody will invariably try to add Religio...   \n",
       "3  0003e1cccfd5a40a   It says it right there that it IS a type The ...   \n",
       "4  00059ace3e3e9a53   Before adding a new product to the list, make...   \n",
       "\n",
       "   threat  insult  toxic  IsAbuse  \n",
       "0       0       0      0        0  \n",
       "1       0       0      0        0  \n",
       "2       0       0      0        0  \n",
       "3       0       0      0        0  \n",
       "4       0       0      0        0  "
      ]
     },
     "execution_count": 142,
     "metadata": {},
     "output_type": "execute_result"
    }
   ],
   "source": [
    "val_dataset.head()"
   ]
  },
  {
   "cell_type": "code",
   "execution_count": null,
   "metadata": {},
   "outputs": [],
   "source": []
  },
  {
   "cell_type": "code",
   "execution_count": 143,
   "metadata": {},
   "outputs": [],
   "source": [
    "test_dataset.to_csv(\"cleaned_test.csv\")"
   ]
  },
  {
   "cell_type": "code",
   "execution_count": null,
   "metadata": {},
   "outputs": [],
   "source": []
  }
 ],
 "metadata": {
  "kernelspec": {
   "display_name": "Python [conda env:transformers] *",
   "language": "python",
   "name": "conda-env-transformers-py"
  },
  "language_info": {
   "codemirror_mode": {
    "name": "ipython",
    "version": 3
   },
   "file_extension": ".py",
   "mimetype": "text/x-python",
   "name": "python",
   "nbconvert_exporter": "python",
   "pygments_lexer": "ipython3",
   "version": "3.7.7"
  }
 },
 "nbformat": 4,
 "nbformat_minor": 4
}
